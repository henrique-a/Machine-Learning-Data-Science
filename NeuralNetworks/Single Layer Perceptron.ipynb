{
 "cells": [
  {
   "cell_type": "code",
   "execution_count": null,
   "metadata": {},
   "outputs": [],
   "source": [
    "import numpy as np\n",
    "import random\n",
    "from sklearn import model_selection, preprocessing, datasets\n",
    "\n",
    "import pandas as pd"
   ]
  },
  {
   "cell_type": "code",
   "execution_count": 384,
   "metadata": {},
   "outputs": [],
   "source": [
    "# Single layer perceptron\n",
    "class SLP(object):    \n",
    "    def __init__(self, n_weights = 3, rate=1):\n",
    "        \n",
    "        # Neural network variables\n",
    "        self.n_weights = n_weights # number of weights\n",
    "        self.rate = rate # learning rate \n",
    "        \n",
    "        # Set initial random weights for the network\n",
    "        W = np.array([random.uniform(-1, 1) for _ in range(self.n_weights)])\n",
    "        W = np.insert(W, 0, 1, axis=0) # inserting bias\n",
    "        self.W = W.reshape((1,n_weights + 1))   \n",
    "        \n",
    "    \n",
    "    # Activation function\n",
    "    def activation(self, v):\n",
    "        return np.sign(v)\n",
    "    \n",
    "    def loss(self, Z, Y):\n",
    "        return np.asscalar((Y - Z) @ (Y - Z).T) / len(Y)\n",
    "    \n",
    "    # Foward step\n",
    "    def forward(self, X):\n",
    "        V = self.W @ X\n",
    "        Z = self.activation(V)\n",
    "        return V,Z\n",
    "    \n",
    "    # Train neural network\n",
    "    def train(self, X, Y):\n",
    "        k = 0\n",
    "        print(\"Epoch {}:\".format(k))\n",
    "        V, Z = self.forward(X)\n",
    "        print(\"loss: {}\".format(self.loss(Z,Y)))\n",
    "        print(\"Predict: {}\".format(self.predict(X,Y)))\n",
    "        loss_last_epoch = 0\n",
    "        # Perform a gradient descent algorithm\n",
    "        while self.loss(Z,Y) > 0.1 and k < 10000:\n",
    "            k = k + 1\n",
    "            for n in range(len(X.T)):\n",
    "                W_new = self.W + self.rate * (1/2)*(Y[n] - Z.T[n])*X.T[n]\n",
    "                self.W = W_new\n",
    "\n",
    "            print(\"Epoch {}:\".format(k))\n",
    "\n",
    "            V, Z = self.forward(X)\n",
    "            print(\"loss: {}\".format(self.loss(Z,Y)))\n",
    "            print(\"Predict: {}\".format(self.predict(X,Y)))\n",
    "    # Predict class of a sample\n",
    "    def predict(self, X, Y):\n",
    "        Z = self.forward(X)[1].flatten()\n",
    "        errors = 0\n",
    "        for i,pred in enumerate(Z):\n",
    "            if pred != Y[i]:\n",
    "                errors += 1\n",
    "\n",
    "        acc = 1 - (errors / len(Y))\n",
    "        return acc\n",
    "                \n",
    "        "
   ]
  },
  {
   "cell_type": "code",
   "execution_count": 385,
   "metadata": {},
   "outputs": [],
   "source": [
    "nn = SLP(n_weights=3, rate=1)"
   ]
  },
  {
   "cell_type": "code",
   "execution_count": 386,
   "metadata": {},
   "outputs": [
    {
     "name": "stdout",
     "output_type": "stream",
     "text": [
      "Epoch 0:\n",
      "loss: 3.7333333333333334\n",
      "Predict: 0.06666666666666665\n",
      "Epoch 1:\n",
      "loss: 0.26666666666666666\n",
      "Predict: 0.9333333333333333\n",
      "Epoch 2:\n",
      "loss: 0.0\n",
      "Predict: 1.0\n"
     ]
    },
    {
     "name": "stderr",
     "output_type": "stream",
     "text": [
      "/Library/Frameworks/Python.framework/Versions/3.7/lib/python3.7/site-packages/sklearn/utils/validation.py:590: DataConversionWarning: Data with input dtype int64 was converted to float64 by the scale function.\n",
      "  warnings.warn(msg, DataConversionWarning)\n"
     ]
    }
   ],
   "source": [
    "# Train gender classifier\n",
    "X = [[181, 80, 44], [177, 70, 43], [160, 60, 38], [154, 54, 37], \n",
    "[166, 65, 140], [190, 90, 47], [175, 64, 39], [177, 82, 40], [59, 55, 37],\n",
    "[171, 75, 42], [181, 85, 43], [155,48,36], [162,53,37], [158,57,37], [154, 60, 36]]\n",
    "X = np.insert(X,0,1,axis=1) # inserting bias\n",
    "\n",
    "X = preprocessing.scale(X)\n",
    "\n",
    "Y = np.array([1, 1, -1, -1, 1, 1, 1, 1, -1, 1, 1, -1, -1, -1, -1])\n",
    "\n",
    "nn.train(X.transpose(), Y)"
   ]
  }
 ],
 "metadata": {
  "kernelspec": {
   "display_name": "Python 3",
   "language": "python",
   "name": "python3"
  },
  "language_info": {
   "codemirror_mode": {
    "name": "ipython",
    "version": 3
   },
   "file_extension": ".py",
   "mimetype": "text/x-python",
   "name": "python",
   "nbconvert_exporter": "python",
   "pygments_lexer": "ipython3",
   "version": "3.7.0"
  }
 },
 "nbformat": 4,
 "nbformat_minor": 2
}
