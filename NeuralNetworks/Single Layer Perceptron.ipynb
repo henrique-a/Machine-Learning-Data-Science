{
 "cells": [
  {
   "cell_type": "code",
   "execution_count": null,
   "metadata": {},
   "outputs": [],
   "source": [
    "import numpy as np\n",
    "import random\n",
    "from sklearn import model_selection, preprocessing\n",
    "import pandas as pd"
   ]
  },
  {
   "cell_type": "code",
   "execution_count": 272,
   "metadata": {},
   "outputs": [],
   "source": [
    "# Single layer perceptron\n",
    "class SLP(object):    \n",
    "    def __init__(self, n_neurons=3, rate=1):\n",
    "        \n",
    "        # Neural network variables\n",
    "        self.n_neurons = n_neurons # number of neurons\n",
    "        self.rate = rate # learning rate \n",
    "        \n",
    "        # Set weights for the network\n",
    "#         random.seed(1)\n",
    "        W = np.array([random.uniform(0, 1) for _ in range(self.n_neurons)])\n",
    "        W = np.insert(W, 0, 1, axis=0) # inserting bias\n",
    "        self.W = W.reshape((1,n_neurons + 1))   \n",
    "        \n",
    "    \n",
    "    # Activation function\n",
    "    def sigmoid(self, x):\n",
    "        return 1 / (1 + np.exp(-x))\n",
    "    \n",
    "    # Activation function derivative\n",
    "    def d_sigmoid(self, x): # derivate of sigmoid\n",
    "        return self.sigmoid(x)*(1 - self.sigmoid(x))\n",
    "    \n",
    "    # Binary Cross-Entropy loss function\n",
    "    def loss(self, Z, Y):\n",
    "        Z = Z.flatten() # reshape matrix to column vector\n",
    "        return np.asscalar((-1/len(Z)) * (np.dot(Y, np.log(Z + (1.e-10))) + np.dot((1 - Y), np.log(1 - Z + (1.e-10))))) \n",
    "    \n",
    "    # Gradient of loss function\n",
    "    def gradient_loss(self, Z, Y):\n",
    "        Z = Z.flatten() # reshape matrix to column vector\n",
    "        dL = np.dot(Y, 1/Z) + np.dot((1 - Y), 1/(Z - 1))\n",
    "        return np.asscalar((-1/len(Z)) * dL)\n",
    "    \n",
    "    # Foward step\n",
    "    def forward(self, X):\n",
    "        V = self.W @ X\n",
    "        Z = self.sigmoid(V)\n",
    "#         print(\"Z {}:\".format(Z))\n",
    "        return V,Z\n",
    "    \n",
    "    # Train neural network\n",
    "    def train(self, X, Y):\n",
    "        n = 0\n",
    "        print(\"Epoch {}:\".format(n))\n",
    "        V, Z = self.forward(X)\n",
    "        print(\"loss: {}\".format(self.loss(Z,Y)))\n",
    "\n",
    "        # Perform a gradient descent algorithm\n",
    "        while self.loss(Z, Y) > 0.1 and n < 10000:\n",
    "            n = n + 1\n",
    "            W_new = self.W - self.rate * self.gradient_loss(Z, Y) * self.d_sigmoid(V) @ X.transpose()\n",
    "            self.W = W_new\n",
    "            \n",
    "\n",
    "            print(\"Epoch {}:\".format(n))\n",
    "#             print(\"Gradient loss: {}\".format(self.gradient_loss(Z, Y)))\n",
    "#             print(\"Sigmoid: {}\".format(self.d_sigmoid(V)))\n",
    "#             print(\"X: {}\".format(X.transpose()))\n",
    "\n",
    "            V, Z = self.forward(X)\n",
    "            print(\"loss: {}\".format(self.loss(Z,Y)))\n",
    "            print(\"Predict: {}\".format(self.predict(X,Y)))\n",
    "    \n",
    "    # Predict class of a sample\n",
    "    def predict(self, X, Y):\n",
    "        Z = self.forward(X)[1].flatten()\n",
    "        hits = 0\n",
    "        for i,pred in enumerate(Z):\n",
    "            if pred >= 0.5 and Y[i] == 1:\n",
    "                hits += 1\n",
    "            elif pred < 0.5 and Y[i] == 0:\n",
    "                hits += 1\n",
    "        acc = hits / len(Y)\n",
    "        return acc\n",
    "                \n",
    "        "
   ]
  },
  {
   "cell_type": "code",
   "execution_count": 273,
   "metadata": {},
   "outputs": [],
   "source": [
    "nn = SLP(n_neurons=9, rate=0.000001)"
   ]
  },
  {
   "cell_type": "code",
   "execution_count": 239,
   "metadata": {},
   "outputs": [
    {
     "name": "stderr",
     "output_type": "stream",
     "text": [
      "/Library/Frameworks/Python.framework/Versions/3.7/lib/python3.7/site-packages/sklearn/utils/validation.py:590: DataConversionWarning: Data with input dtype int64 was converted to float64 by the scale function.\n",
      "  warnings.warn(msg, DataConversionWarning)\n"
     ]
    },
    {
     "ename": "IndexError",
     "evalue": "index 15 is out of bounds for axis 0 with size 15",
     "output_type": "error",
     "traceback": [
      "\u001b[0;31m---------------------------------------------------------------------------\u001b[0m",
      "\u001b[0;31mIndexError\u001b[0m                                Traceback (most recent call last)",
      "\u001b[0;32m<ipython-input-239-beb832e39778>\u001b[0m in \u001b[0;36m<module>\u001b[0;34m()\u001b[0m\n\u001b[1;32m      9\u001b[0m \u001b[0mY\u001b[0m \u001b[0;34m=\u001b[0m \u001b[0mnp\u001b[0m\u001b[0;34m.\u001b[0m\u001b[0marray\u001b[0m\u001b[0;34m(\u001b[0m\u001b[0;34m[\u001b[0m\u001b[0;36m1\u001b[0m\u001b[0;34m,\u001b[0m \u001b[0;36m1\u001b[0m\u001b[0;34m,\u001b[0m \u001b[0;36m0\u001b[0m\u001b[0;34m,\u001b[0m \u001b[0;36m0\u001b[0m\u001b[0;34m,\u001b[0m \u001b[0;36m1\u001b[0m\u001b[0;34m,\u001b[0m \u001b[0;36m1\u001b[0m\u001b[0;34m,\u001b[0m \u001b[0;36m1\u001b[0m\u001b[0;34m,\u001b[0m \u001b[0;36m1\u001b[0m\u001b[0;34m,\u001b[0m \u001b[0;36m0\u001b[0m\u001b[0;34m,\u001b[0m \u001b[0;36m1\u001b[0m\u001b[0;34m,\u001b[0m \u001b[0;36m1\u001b[0m\u001b[0;34m,\u001b[0m \u001b[0;36m0\u001b[0m\u001b[0;34m,\u001b[0m \u001b[0;36m0\u001b[0m\u001b[0;34m,\u001b[0m \u001b[0;36m0\u001b[0m\u001b[0;34m,\u001b[0m \u001b[0;36m0\u001b[0m\u001b[0;34m]\u001b[0m\u001b[0;34m)\u001b[0m\u001b[0;34m\u001b[0m\u001b[0m\n\u001b[1;32m     10\u001b[0m \u001b[0;34m\u001b[0m\u001b[0m\n\u001b[0;32m---> 11\u001b[0;31m \u001b[0mprint\u001b[0m\u001b[0;34m(\u001b[0m\u001b[0;34m\"predict: {}\"\u001b[0m\u001b[0;34m.\u001b[0m\u001b[0mformat\u001b[0m\u001b[0;34m(\u001b[0m\u001b[0mnn\u001b[0m\u001b[0;34m.\u001b[0m\u001b[0mpredict\u001b[0m\u001b[0;34m(\u001b[0m\u001b[0mX_train\u001b[0m\u001b[0;34m.\u001b[0m\u001b[0mT\u001b[0m\u001b[0;34m,\u001b[0m\u001b[0mY\u001b[0m\u001b[0;34m)\u001b[0m\u001b[0;34m)\u001b[0m\u001b[0;34m)\u001b[0m\u001b[0;34m\u001b[0m\u001b[0m\n\u001b[0m\u001b[1;32m     12\u001b[0m \u001b[0mnn\u001b[0m\u001b[0;34m.\u001b[0m\u001b[0mtrain\u001b[0m\u001b[0;34m(\u001b[0m\u001b[0mX\u001b[0m\u001b[0;34m.\u001b[0m\u001b[0mtranspose\u001b[0m\u001b[0;34m(\u001b[0m\u001b[0;34m)\u001b[0m\u001b[0;34m,\u001b[0m \u001b[0mY\u001b[0m\u001b[0;34m)\u001b[0m\u001b[0;34m\u001b[0m\u001b[0m\n",
      "\u001b[0;32m<ipython-input-235-9996ba3f5f00>\u001b[0m in \u001b[0;36mpredict\u001b[0;34m(self, X, Y)\u001b[0m\n\u001b[1;32m     68\u001b[0m         \u001b[0mhits\u001b[0m \u001b[0;34m=\u001b[0m \u001b[0;36m0\u001b[0m\u001b[0;34m\u001b[0m\u001b[0m\n\u001b[1;32m     69\u001b[0m         \u001b[0;32mfor\u001b[0m \u001b[0mi\u001b[0m\u001b[0;34m,\u001b[0m\u001b[0mpred\u001b[0m \u001b[0;32min\u001b[0m \u001b[0menumerate\u001b[0m\u001b[0;34m(\u001b[0m\u001b[0mZ\u001b[0m\u001b[0;34m)\u001b[0m\u001b[0;34m:\u001b[0m\u001b[0;34m\u001b[0m\u001b[0m\n\u001b[0;32m---> 70\u001b[0;31m             \u001b[0;32mif\u001b[0m \u001b[0mpred\u001b[0m \u001b[0;34m>=\u001b[0m \u001b[0;36m0.5\u001b[0m \u001b[0;32mand\u001b[0m \u001b[0mY\u001b[0m\u001b[0;34m[\u001b[0m\u001b[0mi\u001b[0m\u001b[0;34m]\u001b[0m \u001b[0;34m==\u001b[0m \u001b[0;36m1\u001b[0m\u001b[0;34m:\u001b[0m\u001b[0;34m\u001b[0m\u001b[0m\n\u001b[0m\u001b[1;32m     71\u001b[0m                 \u001b[0mhits\u001b[0m \u001b[0;34m+=\u001b[0m \u001b[0;36m1\u001b[0m\u001b[0;34m\u001b[0m\u001b[0m\n\u001b[1;32m     72\u001b[0m             \u001b[0;32melif\u001b[0m \u001b[0mpred\u001b[0m \u001b[0;34m<\u001b[0m \u001b[0;36m0.5\u001b[0m \u001b[0;32mand\u001b[0m \u001b[0mY\u001b[0m\u001b[0;34m[\u001b[0m\u001b[0mi\u001b[0m\u001b[0;34m]\u001b[0m \u001b[0;34m==\u001b[0m \u001b[0;36m0\u001b[0m\u001b[0;34m:\u001b[0m\u001b[0;34m\u001b[0m\u001b[0m\n",
      "\u001b[0;31mIndexError\u001b[0m: index 15 is out of bounds for axis 0 with size 15"
     ]
    }
   ],
   "source": [
    "# Train gender classifier\n",
    "X = [[181, 80, 44], [177, 70, 43], [160, 60, 38], [154, 54, 37], \n",
    "[166, 65, 140], [190, 90, 47], [175, 64, 39], [177, 82, 40], [59, 55, 37],\n",
    "[171, 75, 42], [181, 85, 43], [155,48,36], [162,53,37], [158,57,37], [154, 60, 36]]\n",
    "X = np.insert(X,0,1,axis=1) # inserting bias\n",
    "\n",
    "X = preprocessing.scale(X)\n",
    "\n",
    "Y = np.array([1, 1, 0, 0, 1, 1, 1, 1, 0, 1, 1, 0, 0, 0, 0])\n",
    "\n",
    "nn.train(X.transpose(), Y)"
   ]
  },
  {
   "cell_type": "code",
   "execution_count": 276,
   "metadata": {},
   "outputs": [],
   "source": [
    "df = pd.read_csv('../Data/breast_cancer.csv')\n",
    "df.replace('?', -99999, inplace=True)\n",
    "df.drop(['id'], 1, inplace=True)\n",
    "X = np.insert(X,0,1,axis=1) # inserting bias\n",
    "X = np.array(df.drop(['class'], 1))\n",
    "X = X.astype(np.float)\n",
    "y = np.array(df['class'])\n",
    "for i in range(y.size):\n",
    "    if y[i] == 2:\n",
    "        y[i] = 0\n",
    "    elif y[i] == 4:\n",
    "        y[i] = 1\n",
    "\n",
    "X = np.insert(X,0,1,axis=1) # inserting bias\n",
    "X = preprocessing.scale(X)\n",
    "X_train, X_test, y_train, y_test = model_selection.train_test_split(X, y, test_size=0.2)"
   ]
  },
  {
   "cell_type": "code",
   "execution_count": null,
   "metadata": {},
   "outputs": [],
   "source": [
    "print(\"predict: {}\".format(nn.predict(X_train.T,y_train)))\n",
    "nn.train(X_train.transpose(), y_train)"
   ]
  },
  {
   "cell_type": "code",
   "execution_count": 208,
   "metadata": {},
   "outputs": [
    {
     "name": "stdout",
     "output_type": "stream",
     "text": [
      "0.9090909090909091\n"
     ]
    },
    {
     "name": "stderr",
     "output_type": "stream",
     "text": [
      "/Library/Frameworks/Python.framework/Versions/3.7/lib/python3.7/site-packages/sklearn/utils/validation.py:590: DataConversionWarning: Data with input dtype int64 was converted to float64 by the scale function.\n",
      "  warnings.warn(msg, DataConversionWarning)\n"
     ]
    }
   ],
   "source": [
    "X = [[182, 88, 42], [174, 78, 41], [149, 49, 35], [160, 54, 37], [176, 77, 42], [175, 70, 40], [152, 48, 36], [149, 38, 35], [176,88,42], [159,55,37], [179,87,43]]\n",
    "X = np.insert(X,0,1,axis=1) # inserting bias\n",
    "\n",
    "X = preprocessing.scale(X)\n",
    "Y = np.array([1,1,0,0,1,1,0,0,1,0,1])\n",
    "\n",
    "print(nn.predict(X.transpose(),Y))"
   ]
  },
  {
   "cell_type": "code",
   "execution_count": 199,
   "metadata": {},
   "outputs": [
    {
     "name": "stdout",
     "output_type": "stream",
     "text": [
      "0.625\n"
     ]
    },
    {
     "name": "stderr",
     "output_type": "stream",
     "text": [
      "/Library/Frameworks/Python.framework/Versions/3.7/lib/python3.7/site-packages/sklearn/linear_model/logistic.py:432: FutureWarning: Default solver will be changed to 'lbfgs' in 0.22. Specify a solver to silence this warning.\n",
      "  FutureWarning)\n"
     ]
    }
   ],
   "source": [
    "from sklearn.linear_model import LogisticRegression\n",
    "\n",
    "\n",
    "\n",
    "X = [[181, 80, 44], [177, 70, 43], [160, 60, 38], [154, 54, 37], \n",
    "[166, 65, 140], [190, 90, 47], [175, 64, 39], [177, 82, 40], [59, 55, 37],\n",
    "[171, 75, 42], [181, 85, 43], [155,48,36], [162,53,37], [158,57,37], [154, 60, 36]]\n",
    "# X = np.insert(X,0,1,axis=1) # inserting bias\n",
    "\n",
    "X = preprocessing.scale(X)\n",
    "\n",
    "Y = np.array([1, 1, 0, 0, 1, 1, 1, 1, 0, 1, 1, 0, 0, 0, 0])\n",
    "\n",
    "model = LogisticRegression()\n",
    "model.fit(X_train,y_train)\n",
    "\n",
    "print(model.score(X_test,y_test))"
   ]
  },
  {
   "cell_type": "code",
   "execution_count": null,
   "metadata": {},
   "outputs": [],
   "source": [
    "[random.uniform(-1, 1) for _ in range(3)]"
   ]
  }
 ],
 "metadata": {
  "kernelspec": {
   "display_name": "Python 3",
   "language": "python",
   "name": "python3"
  },
  "language_info": {
   "codemirror_mode": {
    "name": "ipython",
    "version": 3
   },
   "file_extension": ".py",
   "mimetype": "text/x-python",
   "name": "python",
   "nbconvert_exporter": "python",
   "pygments_lexer": "ipython3",
   "version": "3.7.0"
  }
 },
 "nbformat": 4,
 "nbformat_minor": 2
}
