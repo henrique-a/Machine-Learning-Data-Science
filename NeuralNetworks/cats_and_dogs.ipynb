{
 "cells": [
  {
   "cell_type": "code",
   "execution_count": 10,
   "metadata": {},
   "outputs": [
    {
     "name": "stdout",
     "output_type": "stream",
     "text": [
      "Train on 22451 samples, validate on 2495 samples\n",
      "Epoch 1/3\n",
      "22451/22451 [==============================] - 74s 3ms/sample - loss: 0.6240 - acc: 0.6805 - val_loss: 0.5542 - val_acc: 0.7403\n",
      "Epoch 2/3\n",
      "22451/22451 [==============================] - 77s 3ms/sample - loss: 0.5152 - acc: 0.7486 - val_loss: 0.5455 - val_acc: 0.7511\n",
      "Epoch 3/3\n",
      "22451/22451 [==============================] - 74s 3ms/sample - loss: 0.4773 - acc: 0.7739 - val_loss: 0.7859 - val_acc: 0.6024\n"
     ]
    },
    {
     "data": {
      "text/plain": [
       "<tensorflow.python.keras.callbacks.History at 0x1288bfc18>"
      ]
     },
     "execution_count": 10,
     "metadata": {},
     "output_type": "execute_result"
    }
   ],
   "source": [
    "import tensorflow as tf\n",
    "from tensorflow.keras.models import Sequential\n",
    "from tensorflow.keras.layers import Dense, Dropout, Activation, Flatten, Conv2D, MaxPooling2D\n",
    "import pickle\n",
    "\n",
    "X = pickle.load(open(\"X.pickle\", \"rb\"))\n",
    "y = pickle.load(open(\"y.pickle\", \"rb\"))\n",
    "\n",
    "X = X/255.0\n",
    "\n",
    "# model = Sequential()\n",
    "# model.add(Conv2D(64, (3,3), input_shape=X.shape[1:]))\n",
    "# model.add(Activation(\"relu\"))\n",
    "# model.add(MaxPooling2D(pool_size=(2,2)))\n",
    "\n",
    "model = Sequential()\n",
    "model.add(Conv2D(64, (3,3), input_shape=X.shape[1:]))\n",
    "model.add(Activation(\"relu\"))\n",
    "model.add(MaxPooling2D(pool_size=(2,2)))\n",
    "\n",
    "model.add(Flatten())\n",
    "model.add(Dense(64))\n",
    "\n",
    "model.add(Dense(1)) # output layer\n",
    "model.add(Activation('sigmoid'))\n",
    "\n",
    "model.compile(loss=\"binary_crossentropy\", optimizer=\"adam\", metrics=[\"accuracy\"])\n",
    "\n",
    "model.fit(X, y, batch_size=32, epochs=3, validation_split=0.1)"
   ]
  }
 ],
 "metadata": {
  "kernelspec": {
   "display_name": "Python 3",
   "language": "python",
   "name": "python3"
  },
  "language_info": {
   "codemirror_mode": {
    "name": "ipython",
    "version": 3
   },
   "file_extension": ".py",
   "mimetype": "text/x-python",
   "name": "python",
   "nbconvert_exporter": "python",
   "pygments_lexer": "ipython3",
   "version": "3.7.0"
  }
 },
 "nbformat": 4,
 "nbformat_minor": 2
}
